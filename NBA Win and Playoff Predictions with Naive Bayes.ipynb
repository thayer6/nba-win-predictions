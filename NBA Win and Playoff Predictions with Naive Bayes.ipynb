{
 "cells": [
  {
   "cell_type": "markdown",
   "metadata": {},
   "source": [
    "## Forecasting How Individual NBA Player Attributes Can Predict Whether Their Team Wins Enough to Make the Playoffs with Naive Bayes\n",
    "\n",
    "In this project, I apply a Naive Bayes model to a NBA dataset from the Kaggle data repository (https://www.kaggle.com/noahgift/social-power-nba). The dataset is titled \"Social Power NBA\" and contains performance, salary, and twitter data for 100 NBA players of the 2016-2017 season. \n",
    "\n",
    "To determine a cut-off number of wins that would be required to make the playoffs, I took a look at the FiveThirtyEight predictions for the NBA playoffs (link) and decided that at least 42 regular season wins are required to reach the playoffs for a given team. I chose this number also because it is a good measure of a winning team and is used as a benchmark of sucess in the NBA, since having greater than 41 wins would result in an overall winning record (>0.500 win percentage).\n",
    "\n",
    "Below, I apply the Naive Bayes model to predict if a player will win enough to make the playoffs based on a number of attributes related to on and off court performance.\n"
   ]
  },
  {
   "cell_type": "code",
   "execution_count": 1,
   "metadata": {},
   "outputs": [],
   "source": [
    "# Install necessary packages\n",
    "import pandas as pd\n",
    "import numpy as np\n",
    "\n",
    "# Import train_test_split function\n",
    "from sklearn.model_selection import train_test_split\n",
    "\n",
    "# Import scikit-learn naive bayes model\n",
    "from sklearn.naive_bayes import GaussianNB\n",
    "\n",
    "#Import scikit-learn metrics module for accuracy calculation\n",
    "from sklearn import metrics\n",
    "\n",
    "# Import scikit-learn KFold module from the model selection package\n",
    "from sklearn.model_selection import KFold\n",
    "\n",
    "# Import scikit-learn modules necessary for k fold cross validation\n",
    "from sklearn import svm\n",
    "from sklearn.model_selection import cross_val_score\n",
    "\n"
   ]
  },
  {
   "cell_type": "code",
   "execution_count": 2,
   "metadata": {},
   "outputs": [
    {
     "data": {
      "text/html": [
       "<div>\n",
       "<style scoped>\n",
       "    .dataframe tbody tr th:only-of-type {\n",
       "        vertical-align: middle;\n",
       "    }\n",
       "\n",
       "    .dataframe tbody tr th {\n",
       "        vertical-align: top;\n",
       "    }\n",
       "\n",
       "    .dataframe thead th {\n",
       "        text-align: right;\n",
       "    }\n",
       "</style>\n",
       "<table border=\"1\" class=\"dataframe\">\n",
       "  <thead>\n",
       "    <tr style=\"text-align: right;\">\n",
       "      <th></th>\n",
       "      <th>PLAYER_ID</th>\n",
       "      <th>PLAYER_NAME</th>\n",
       "      <th>TEAM_ID</th>\n",
       "      <th>TEAM_ABBREVIATION</th>\n",
       "      <th>AGE</th>\n",
       "      <th>GP</th>\n",
       "      <th>W</th>\n",
       "      <th>L</th>\n",
       "      <th>W_PCT</th>\n",
       "      <th>MIN</th>\n",
       "      <th>...</th>\n",
       "      <th>FGA_PG_RANK</th>\n",
       "      <th>FG_PCT_RANK</th>\n",
       "      <th>CFID</th>\n",
       "      <th>CFPARAMS</th>\n",
       "      <th>WIKIPEDIA_HANDLE</th>\n",
       "      <th>TWITTER_HANDLE</th>\n",
       "      <th>SALARY_MILLIONS</th>\n",
       "      <th>PTS</th>\n",
       "      <th>ACTIVE_TWITTER_LAST_YEAR</th>\n",
       "      <th>TWITTER_FOLLOWER_COUNT_MILLIONS</th>\n",
       "    </tr>\n",
       "  </thead>\n",
       "  <tbody>\n",
       "    <tr>\n",
       "      <th>0</th>\n",
       "      <td>201566</td>\n",
       "      <td>Russell Westbrook</td>\n",
       "      <td>1610612760</td>\n",
       "      <td>OKC</td>\n",
       "      <td>28</td>\n",
       "      <td>81</td>\n",
       "      <td>46</td>\n",
       "      <td>35</td>\n",
       "      <td>0.568</td>\n",
       "      <td>34.6</td>\n",
       "      <td>...</td>\n",
       "      <td>1</td>\n",
       "      <td>293</td>\n",
       "      <td>5</td>\n",
       "      <td>2,015,661,610,612,760</td>\n",
       "      <td>Russell_Westbrook</td>\n",
       "      <td>russwest44</td>\n",
       "      <td>26.54</td>\n",
       "      <td>31.6</td>\n",
       "      <td>1</td>\n",
       "      <td>4.500</td>\n",
       "    </tr>\n",
       "    <tr>\n",
       "      <th>1</th>\n",
       "      <td>1626246</td>\n",
       "      <td>Boban Marjanovic</td>\n",
       "      <td>1610612765</td>\n",
       "      <td>DET</td>\n",
       "      <td>28</td>\n",
       "      <td>35</td>\n",
       "      <td>16</td>\n",
       "      <td>19</td>\n",
       "      <td>0.457</td>\n",
       "      <td>8.4</td>\n",
       "      <td>...</td>\n",
       "      <td>356</td>\n",
       "      <td>47</td>\n",
       "      <td>5</td>\n",
       "      <td>16,262,461,610,612,700</td>\n",
       "      <td>Boban_Marjanovi_</td>\n",
       "      <td>0</td>\n",
       "      <td>7.00</td>\n",
       "      <td>5.5</td>\n",
       "      <td>0</td>\n",
       "      <td>0.000</td>\n",
       "    </tr>\n",
       "    <tr>\n",
       "      <th>2</th>\n",
       "      <td>1627743</td>\n",
       "      <td>Demetrius Jackson</td>\n",
       "      <td>1610612738</td>\n",
       "      <td>BOS</td>\n",
       "      <td>22</td>\n",
       "      <td>5</td>\n",
       "      <td>1</td>\n",
       "      <td>4</td>\n",
       "      <td>0.200</td>\n",
       "      <td>3.4</td>\n",
       "      <td>...</td>\n",
       "      <td>480</td>\n",
       "      <td>3</td>\n",
       "      <td>5</td>\n",
       "      <td>16,277,431,610,612,700</td>\n",
       "      <td>Demetrius_Jackson</td>\n",
       "      <td>d_jay11</td>\n",
       "      <td>1.45</td>\n",
       "      <td>2.0</td>\n",
       "      <td>1</td>\n",
       "      <td>0.049</td>\n",
       "    </tr>\n",
       "    <tr>\n",
       "      <th>3</th>\n",
       "      <td>203076</td>\n",
       "      <td>Anthony Davis</td>\n",
       "      <td>1610612740</td>\n",
       "      <td>NOP</td>\n",
       "      <td>24</td>\n",
       "      <td>75</td>\n",
       "      <td>31</td>\n",
       "      <td>44</td>\n",
       "      <td>0.413</td>\n",
       "      <td>36.1</td>\n",
       "      <td>...</td>\n",
       "      <td>3</td>\n",
       "      <td>95</td>\n",
       "      <td>5</td>\n",
       "      <td>2,030,761,610,612,740</td>\n",
       "      <td>Anthony_Davis_(basketball)</td>\n",
       "      <td>antdavis23</td>\n",
       "      <td>22.12</td>\n",
       "      <td>28.0</td>\n",
       "      <td>1</td>\n",
       "      <td>1.220</td>\n",
       "    </tr>\n",
       "    <tr>\n",
       "      <th>4</th>\n",
       "      <td>201935</td>\n",
       "      <td>James Harden</td>\n",
       "      <td>1610612745</td>\n",
       "      <td>HOU</td>\n",
       "      <td>27</td>\n",
       "      <td>81</td>\n",
       "      <td>54</td>\n",
       "      <td>27</td>\n",
       "      <td>0.667</td>\n",
       "      <td>36.4</td>\n",
       "      <td>...</td>\n",
       "      <td>9</td>\n",
       "      <td>253</td>\n",
       "      <td>5</td>\n",
       "      <td>2,019,351,610,612,740</td>\n",
       "      <td>James_Harden</td>\n",
       "      <td>jharden13</td>\n",
       "      <td>26.50</td>\n",
       "      <td>29.1</td>\n",
       "      <td>1</td>\n",
       "      <td>4.470</td>\n",
       "    </tr>\n",
       "  </tbody>\n",
       "</table>\n",
       "<p>5 rows × 63 columns</p>\n",
       "</div>"
      ],
      "text/plain": [
       "   PLAYER_ID        PLAYER_NAME     TEAM_ID TEAM_ABBREVIATION  AGE  GP   W  \\\n",
       "0     201566  Russell Westbrook  1610612760               OKC   28  81  46   \n",
       "1    1626246   Boban Marjanovic  1610612765               DET   28  35  16   \n",
       "2    1627743  Demetrius Jackson  1610612738               BOS   22   5   1   \n",
       "3     203076      Anthony Davis  1610612740               NOP   24  75  31   \n",
       "4     201935       James Harden  1610612745               HOU   27  81  54   \n",
       "\n",
       "    L  W_PCT   MIN  ...  FGA_PG_RANK  FG_PCT_RANK  CFID  \\\n",
       "0  35  0.568  34.6  ...            1          293     5   \n",
       "1  19  0.457   8.4  ...          356           47     5   \n",
       "2   4  0.200   3.4  ...          480            3     5   \n",
       "3  44  0.413  36.1  ...            3           95     5   \n",
       "4  27  0.667  36.4  ...            9          253     5   \n",
       "\n",
       "                 CFPARAMS            WIKIPEDIA_HANDLE  TWITTER_HANDLE  \\\n",
       "0   2,015,661,610,612,760           Russell_Westbrook      russwest44   \n",
       "1  16,262,461,610,612,700            Boban_Marjanovi_               0   \n",
       "2  16,277,431,610,612,700           Demetrius_Jackson         d_jay11   \n",
       "3   2,030,761,610,612,740  Anthony_Davis_(basketball)      antdavis23   \n",
       "4   2,019,351,610,612,740                James_Harden       jharden13   \n",
       "\n",
       "   SALARY_MILLIONS   PTS  ACTIVE_TWITTER_LAST_YEAR  \\\n",
       "0            26.54  31.6                         1   \n",
       "1             7.00   5.5                         0   \n",
       "2             1.45   2.0                         1   \n",
       "3            22.12  28.0                         1   \n",
       "4            26.50  29.1                         1   \n",
       "\n",
       "   TWITTER_FOLLOWER_COUNT_MILLIONS  \n",
       "0                            4.500  \n",
       "1                            0.000  \n",
       "2                            0.049  \n",
       "3                            1.220  \n",
       "4                            4.470  \n",
       "\n",
       "[5 rows x 63 columns]"
      ]
     },
     "execution_count": 2,
     "metadata": {},
     "output_type": "execute_result"
    }
   ],
   "source": [
    "# Load NBA dataset\n",
    "nba = pd.read_csv(\"~/Documents/UW Data Science Certificate/Methods for Data Analysis/Milestone Assignments/Data/nba_2016_2017_100.csv\")\n",
    "# Take a look at the first five rows\n",
    "nba.head()"
   ]
  },
  {
   "cell_type": "markdown",
   "metadata": {},
   "source": [
    "# Data Preparation for Naive Bayes\n",
    "\n",
    "First, I one-hot encoded the Wins column based on whether or not the player had enough wins to make the playoffs (greater than or equal to 42). This one-hot encoded column will be used as the target for the remainder of the analysis since it's ultimately a yes or no question that we want to predict: Did the player win enough for their team to reach the playoffs? \n",
    "\n",
    "Next, I removed features that were unique identifiers or were directly associated with the Wins values. From this new dataframe, I designated all of the remaining columns as the features and kept the target assigned to the one-hot encoded playoffs column described above."
   ]
  },
  {
   "cell_type": "code",
   "execution_count": 3,
   "metadata": {},
   "outputs": [],
   "source": [
    "# Generate a new target column with the wins one hot encoded for where greater than 42 wins is coded as 1 and less than is coded as 0\n",
    "nba.loc[:, 'target'] = (nba.loc[:, 'W'] >= 42).astype(int)\n"
   ]
  },
  {
   "cell_type": "code",
   "execution_count": 4,
   "metadata": {},
   "outputs": [],
   "source": [
    "# Drop target column and features that are unique identifiers or directly related to number of wins\n",
    "not_features = ['PLAYER_ID', 'PLAYER_NAME', 'TEAM_ID', 'TEAM_ABBREVIATION', \n",
    "            'WIKIPEDIA_HANDLE', 'TWITTER_HANDLE', 'CFPARAMS', 'W_RANK', 'L_RANK',\n",
    "            'W_PCT', 'W_PCT_RANK', 'W', 'target']\n",
    "\n",
    "# Create a dataframe with the dropped features removed\n",
    "nba_dropped = nba.drop(not_features, axis = 1)\n",
    "\n",
    "# Split data into features and targets\n",
    "features = nba.drop(not_features, axis = 1).values # features\n",
    "target = nba[[\"target\"]].values # target\n"
   ]
  },
  {
   "cell_type": "markdown",
   "metadata": {},
   "source": [
    "# Naive Bayes\n",
    "\n",
    "Using sklearn, I split the dataset into training and test subsets for both the features and the target attributes. I assigned 70% of the data as the training data and reserved 30% of the dataset for testing. I instantiated the Naive Bayes model and fit it to the features and target of the training subset. Using the testing features, I predicted the targets based on the Naive Bayes model and evaluated the accuracy of the model. Based on the individual player features, the model has a 80% accuracy in predicting whether the player's team will make the playoffs. This is a decent result and the accuracy may be misleading because there are many other factors as to why a team would make the playoffs outside of individual statistics. Things like team chemistry and intangible attributes like effort and heart are not quantified here. "
   ]
  },
  {
   "cell_type": "code",
   "execution_count": 5,
   "metadata": {},
   "outputs": [],
   "source": [
    "# Split dataset into training set and test set\n",
    "X_train, X_test, y_train, y_test = train_test_split(features, target, \n",
    "                                  test_size=0.3,random_state=6) # 70% training and 30% test"
   ]
  },
  {
   "cell_type": "code",
   "execution_count": 6,
   "metadata": {},
   "outputs": [
    {
     "name": "stderr",
     "output_type": "stream",
     "text": [
      "/Users/caseythayer/anaconda3/lib/python3.6/site-packages/sklearn/utils/validation.py:578: DataConversionWarning: A column-vector y was passed when a 1d array was expected. Please change the shape of y to (n_samples, ), for example using ravel().\n",
      "  y = column_or_1d(y, warn=True)\n"
     ]
    }
   ],
   "source": [
    "# Instantiate model\n",
    "gnb = GaussianNB()\n",
    "\n",
    "# Train the model on the training sets only\n",
    "gnb_model = gnb.fit(X_train, y_train)"
   ]
  },
  {
   "cell_type": "code",
   "execution_count": 7,
   "metadata": {},
   "outputs": [],
   "source": [
    "#Predict the response for test dataset\n",
    "y_pred = gnb.predict(X_test)"
   ]
  },
  {
   "cell_type": "code",
   "execution_count": 8,
   "metadata": {},
   "outputs": [
    {
     "name": "stdout",
     "output_type": "stream",
     "text": [
      "Accuracy: 0.8\n"
     ]
    }
   ],
   "source": [
    "# Model Accuracy, how often is the classifier correct?\n",
    "print(\"Accuracy:\",metrics.accuracy_score(y_test, y_pred))"
   ]
  },
  {
   "cell_type": "markdown",
   "metadata": {},
   "source": [
    "# K Fold Cross Validation\n",
    "\n",
    "I performed K Fold Cross Validation technique to confirm the accuracy of the Naive Bayes model. First, I defined the Kfold parameters by providing the number of folds to evaluate, this means that the dataset will be broken up into multiple subsets of the training data (containing the features and the target) and the accuracy of the model will be calculated for each subset to provide an overall accuracy of the model with a confidence interval. \n",
    "\n",
    "I interrogated 10 folds and found that the overall accuracy of the Naive Bayes model prediction to be 86% with a 95% confidence interval of plus or minus 22%. This is a fairly large confidence interval and we can see that the accuracy that was determined above falls within the 95% confidence interval."
   ]
  },
  {
   "cell_type": "code",
   "execution_count": 9,
   "metadata": {},
   "outputs": [
    {
     "name": "stdout",
     "output_type": "stream",
     "text": [
      "Accuracy of each fold:  [0.71428571 0.85714286 0.85714286 1.         1.         0.85714286\n",
      " 0.71428571 1.         0.85714286 0.71428571]\n",
      "Accuracy : 0.86 (+/- 0.22)\n"
     ]
    },
    {
     "name": "stderr",
     "output_type": "stream",
     "text": [
      "/Users/caseythayer/anaconda3/lib/python3.6/site-packages/sklearn/utils/validation.py:578: DataConversionWarning: A column-vector y was passed when a 1d array was expected. Please change the shape of y to (n_samples, ), for example using ravel().\n",
      "  y = column_or_1d(y, warn=True)\n",
      "/Users/caseythayer/anaconda3/lib/python3.6/site-packages/sklearn/utils/validation.py:578: DataConversionWarning: A column-vector y was passed when a 1d array was expected. Please change the shape of y to (n_samples, ), for example using ravel().\n",
      "  y = column_or_1d(y, warn=True)\n",
      "/Users/caseythayer/anaconda3/lib/python3.6/site-packages/sklearn/utils/validation.py:578: DataConversionWarning: A column-vector y was passed when a 1d array was expected. Please change the shape of y to (n_samples, ), for example using ravel().\n",
      "  y = column_or_1d(y, warn=True)\n",
      "/Users/caseythayer/anaconda3/lib/python3.6/site-packages/sklearn/utils/validation.py:578: DataConversionWarning: A column-vector y was passed when a 1d array was expected. Please change the shape of y to (n_samples, ), for example using ravel().\n",
      "  y = column_or_1d(y, warn=True)\n",
      "/Users/caseythayer/anaconda3/lib/python3.6/site-packages/sklearn/utils/validation.py:578: DataConversionWarning: A column-vector y was passed when a 1d array was expected. Please change the shape of y to (n_samples, ), for example using ravel().\n",
      "  y = column_or_1d(y, warn=True)\n",
      "/Users/caseythayer/anaconda3/lib/python3.6/site-packages/sklearn/utils/validation.py:578: DataConversionWarning: A column-vector y was passed when a 1d array was expected. Please change the shape of y to (n_samples, ), for example using ravel().\n",
      "  y = column_or_1d(y, warn=True)\n",
      "/Users/caseythayer/anaconda3/lib/python3.6/site-packages/sklearn/utils/validation.py:578: DataConversionWarning: A column-vector y was passed when a 1d array was expected. Please change the shape of y to (n_samples, ), for example using ravel().\n",
      "  y = column_or_1d(y, warn=True)\n",
      "/Users/caseythayer/anaconda3/lib/python3.6/site-packages/sklearn/utils/validation.py:578: DataConversionWarning: A column-vector y was passed when a 1d array was expected. Please change the shape of y to (n_samples, ), for example using ravel().\n",
      "  y = column_or_1d(y, warn=True)\n",
      "/Users/caseythayer/anaconda3/lib/python3.6/site-packages/sklearn/utils/validation.py:578: DataConversionWarning: A column-vector y was passed when a 1d array was expected. Please change the shape of y to (n_samples, ), for example using ravel().\n",
      "  y = column_or_1d(y, warn=True)\n",
      "/Users/caseythayer/anaconda3/lib/python3.6/site-packages/sklearn/utils/validation.py:578: DataConversionWarning: A column-vector y was passed when a 1d array was expected. Please change the shape of y to (n_samples, ), for example using ravel().\n",
      "  y = column_or_1d(y, warn=True)\n"
     ]
    }
   ],
   "source": [
    "# Define the number of folds and randomization for K Folds Cross Validation\n",
    "kfold = KFold(10, True, 1)\n",
    "# Perform K Folds Cross Validation and calculate cross validation scores\n",
    "clf = svm.SVC(kernel='linear', C=1)\n",
    "scores = cross_val_score(clf, X_train, y_train, cv = 10)\n",
    "print('Accuracy of each fold: ', scores)\n",
    "# Calculate the means of all cross validation scores to get overall accuracy and confidence intervals\n",
    "print('Accuracy : %0.2f (+/- %0.2f)' % (scores.mean(), scores.std() *2))\n"
   ]
  },
  {
   "cell_type": "markdown",
   "metadata": {},
   "source": [
    "# Conclusion\n",
    "\n",
    "In this project, I employed the Naive Bayes model with the NBA dataset containing on and off court player attributes to predict whether or not a players team would make the playoffs.\n",
    "\n",
    "I took the following steps to apply the Naive Bayes model to the NBA dataset to predict whether the on and off court individual player attributes would predict whether their team made the playoffs or not (greater than or equal to 42 wins).\n",
    "* One-hot encode wins column to represent whether the team achieved greater than or equal to 42 wins and passed the playoff threshold based on FiveThirtyEight NBA playoff predictions\n",
    "* Remove unique identifiers and features that were obviously associated with the number of wins\n",
    "* Split the dataset into training and test subsets based on assigned features and targets\n",
    "* Fit the Naive Bayes model to the training set and then use the features from the test dataset to predict the targets of the test dataset and evaluate the accuracy of these predictions\n",
    "    * The model was 80% accurate in predicting whether the individual player attributes directly correlated with their team winning enough to make the playoffs\n",
    "* Further evaluate the accuracy of the model using K Fold Cross Validation in which 10 \"folds\" were obtained from the training subset (features and targets included), the model was fit and the accuracy was calculated for each fold. The average accuracy of all 10 folds and the 95% confidence interval was calculated to confirm the accuracy result determined above.\n",
    "    * The K Folds Cross Validation results found that the average accuracy was 86% with a 95% confidence interval of plus or minus 22%. Our original accuracy result falls within this range so we can confirm that the accuracy of our model is correct based on the cross validation metrics."
   ]
  }
 ],
 "metadata": {
  "kernelspec": {
   "display_name": "Python 3",
   "language": "python",
   "name": "python3"
  },
  "language_info": {
   "codemirror_mode": {
    "name": "ipython",
    "version": 3
   },
   "file_extension": ".py",
   "mimetype": "text/x-python",
   "name": "python",
   "nbconvert_exporter": "python",
   "pygments_lexer": "ipython3",
   "version": "3.6.8"
  }
 },
 "nbformat": 4,
 "nbformat_minor": 2
}
